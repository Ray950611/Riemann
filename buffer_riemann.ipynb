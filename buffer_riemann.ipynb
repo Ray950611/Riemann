{
 "cells": [
  {
   "cell_type": "code",
   "execution_count": 1,
   "metadata": {
    "collapsed": true
   },
   "outputs": [],
   "source": [
    "import numpy as np\n",
    "from matplotlib import pyplot as plt\n",
    "%matplotlib inline"
   ]
  },
  {
   "cell_type": "code",
   "execution_count": 50,
   "metadata": {
    "collapsed": false,
    "scrolled": false
   },
   "outputs": [
    {
     "data": {
      "text/plain": [
       "[<matplotlib.lines.Line2D at 0xf0e97f0>]"
      ]
     },
     "execution_count": 50,
     "metadata": {},
     "output_type": "execute_result"
    },
    {
     "data": {
      "image/png": "[encoded data removed]",
      "text/plain": [
       "<matplotlib.figure.Figure at 0xae905f8>"
      ]
     },
     "metadata": {},
     "output_type": "display_data"
    }
   ],
   "source": [
    "#parameter settings\n",
    "rho_2 = 0.9\n",
    "rho_1 = 1.0\n",
    "g=9.8\n",
    "#space discretization\n",
    "n=100\n",
    "L = 100.0\n",
    "#buffer layer initial height \n",
    "eps = 0.1\n",
    "#cells\n",
    "X = np.linspace(0,L,n+2)\n",
    "#initializations for momentum and height in the three layers\n",
    "M_1 = np.zeros(n+2)\n",
    "M_2 = np.zeros(n+2)\n",
    "M_m = np.zeros(n+2)\n",
    "H_1 = np.ones(n+2)\n",
    "#thin layer of water to approximate dry state\n",
    "H_1[1+n/2:] = eps*np.ones(1+n/2)\n",
    "H_m = np.ones(n+2)*eps\n",
    "#A flat surface is assumed at the beginning\n",
    "H_2 = 5*np.ones(n+2) - H_1\n",
    "#bathymetry\n",
    "B = np.zeros(n+2)\n",
    "dx = L/(n+1)\n",
    "\n",
    "#initial visualization\n",
    "plt.bar(X,H_1+B,width=dx,color='b')\n",
    "#plt.plot(X,H_1+B+H_m,color='k')\n",
    "plt.plot(X,H_2+H_m+H_1+B,color='r')\n"
   ]
  },
  {
   "cell_type": "code",
   "execution_count": 32,
   "metadata": {
    "collapsed": true
   },
   "outputs": [],
   "source": [
    "#the following function takes one forward step in time using the Euler forward difference method\n",
    "def F_F(H_1,H_2,H_m,M_1,M_2,M_m,n):\n",
    "    H_1_new = np.zeros(n)\n",
    "    H_2_new = np.zeros(n)\n",
    "    H_m_new = np.zeros(n)\n",
    "    M_1_new = np.zeros(n)\n",
    "    M_2_new = np.zeros(n)\n",
    "    M_m_new = np.zeros(n)\n",
    "    for i in range(n):\n",
    "        H_1_new[i] = H_1[i+1] - dt*(M_1[i+2]-M_1[i+1])/dx\n",
    "        H_2_new[i] = H_2[i+1] - dt*(M_2[i+2]-M_2[i+1])/dx\n",
    "        M_1_new[i] = M_1[i+1] - dt*(r*g*H_1[i+1]*(H_2[i+2]-H_2[i+1]) - g*H_1[i+1]*(B[i+2]-B[i+1]) - g*0.5*(1+r)*H_1[i+1]*(H_m[i+2]-H_m[i+1]))/dx\n",
    "        M_1_new[i] -= dt*(f1(H_1[i+2],M_1[i+2])-f1(H_1[i+1],M_1[i+1])+g*H_1[i+1]*(H_1[i+2]-H_1[i+1]))/dx\n",
    "        M_2_new[i] = M_2[i+1] - dt*(g*H_2[i+1]*(H_1[i+2]+H_m[i+2]-H_m[i+1]-H_1[i+1])/dx + g*H_2[i+1]*(B[i+2]-B[i+1])/dx)\n",
    "        M_2_new[i] -= dt*(f1(H_2[i+2],M_2[i+2])-f1(H_2[i+1],M_2[i+1])+g*H_2[i+1]*(H_2[i+2]-H_2[i+1]))/dx\n",
    "        \n",
    "        M_m_new[i] = M_m[i+1] - dt*H_m[i+1]*g*((B[i+2]-B[i+1])-r*2*(H_2[i+2]-H_2[i+1])/(1+r)-(H_1[i+2]-H_1[i+1]))/dx\n",
    "        M_m_new[i] -= dt*(f1(H_m[i+2],M_m[i+2])-f1(H_m[i+1],M_m[i+1])+g*H_m[i+1]*(H_m[i+2]-H_m[i+1]))/dx\n",
    "        H_m_new[i] = H_m[i+1] - dt*(M_m[i+2]-M_m[i+1])/dx\n",
    "       \n",
    "        #if H_1_new[i]<0:\n",
    "            #H_m_new[i] += H_1_new[i]\n",
    "            #H_1_new[i] =0\n",
    "    #assuming boundary continuity       \n",
    "    H_1[1:-1] = H_1_new\n",
    "    H_1[0] = 2*H_1[1]-H_1[2]\n",
    "    H_1[-1] = 2*H_1[-2]-H_1[-3]\n",
    "    H_2[1:-1] = H_2_new\n",
    "    H_2[0] = 2*H_2[1] - H_2[2]\n",
    "    H_2[-1] = 2*H_2[-2] - H_2[-3]\n",
    "    M_1[1:-1] = M_1_new\n",
    "    M_1[0] = 2*M_1[1]-M_1[2]\n",
    "    M_1[-1] = 2*M_1[-2]-M_1[-3]\n",
    "    M_2[1:-1] = M_2_new\n",
    "    M_2[0] = 2*M_2[1]-M_2[2]\n",
    "    M_2[-1] = 2*M_2[-2]-M_2[-3]\n",
    "    H_m[1:-1] = H_m_new\n",
    "    H_m[0] = 2*H_m[1]-H_m[2]\n",
    "    H_m[-1] = 2*H_m[-2]-H_m[-3]\n",
    "    M_m[1:-1] = M_m_new\n",
    "    M_m[0] = 2*M_m[1]-M_m[2]\n",
    "    M_m[-1] = 2*M_m[-2]-M_m[-3]\n",
    "    return H_1,H_2,H_m,M_1,M_2,M_m"
   ]
  },
  {
   "cell_type": "code",
   "execution_count": 33,
   "metadata": {
    "collapsed": true
   },
   "outputs": [],
   "source": [
    "#the following function takes one forward step in time using the Euler centered difference method\n",
    "def F_C2(H_1,H_2,H_m,M_1,M_2,M_m,n):\n",
    "   \n",
    "    H_1_new = np.zeros(n)\n",
    "    H_2_new = np.zeros(n)\n",
    "    H_m_new = np.zeros(n)\n",
    "    M_1_new = np.zeros(n)\n",
    "    M_2_new = np.zeros(n)\n",
    "    M_m_new = np.zeros(n)\n",
    "    for i in range(n):\n",
    "        \n",
    "        H_1_new[i] = H_1[i+1] - dt*(M_1[i+2]-M_1[i])*0.5/dx\n",
    "        H_2_new[i] = H_2[i+1] - dt*(M_2[i+2]-M_2[i])*0.5/dx\n",
    "        M_1_new[i] = M_1[i+1] - dt*(r*g*H_1[i+1]*(H_2[i+2]-H_2[i]) - g*H_1[i+1]*(B[i+2]-B[i]) - g*0.5*(1+r)*H_1[i+1]*(H_m[i+2]-H_m[i]))*0.5/dx\n",
    "        M_1_new[i] -= dt*(f1(H_1[i+2],M_1[i+2])-f1(H_1[i],M_1[i])+g*H_1[i+1]*(H_1[i+2]-H_1[i]))*0.5/dx\n",
    "        M_2_new[i] = M_2[i+1] - dt*(g*H_2[i+1]*(H_1[i+2]+H_m[i+2]-H_m[i]-H_1[i])*0.5/dx + g*H_2[i+1]*(B[i+2]-B[i])*0.5/dx)\n",
    "        M_2_new[i] -= dt*(f1(H_2[i+2],M_2[i+2])-f1(H_2[i],M_2[i])+g*H_2[i+1]*(H_2[i+2]-H_2[i]))*0.5/dx\n",
    "        H_m_new[i] = H_m[i+1] - dt*(M_m[i+2]-M_m[i])*0.5/dx\n",
    "        M_m_new[i] = M_m[i+1] - dt*H_m[i+1]*g*((B[i+2]-B[i])-r*2*(H_2[i+2]-H_2[i])/(1+r)-(H_1[i+2]-H_1[i]))*0.5/dx\n",
    "        M_m_new[i] -= dt*(f1(H_m[i+2],M_m[i+2])-f1(H_m[i],M_m[i])+g*H_m[i+1]*(H_m[i+2]-H_m[i]))*0.5/dx\n",
    "        #if H_1_new[i]<0:\n",
    "            #H_m_new[i] += H_1_new[i]\n",
    "            #H_1_new[i] =0\n",
    "            \n",
    "    H_1[1:-1] = H_1_new\n",
    "    H_1[0] = 2*H_1[1]-H_1[2]\n",
    "    H_1[-1] = 2*H_1[-2]-H_1[-3]\n",
    "    H_2[1:-1] = H_2_new\n",
    "    H_2[0] = 2*H_2[1] - H_2[2]\n",
    "    H_2[-1] = 2*H_2[-2] - H_2[-3]\n",
    "    M_1[1:-1] = M_1_new\n",
    "    M_1[0] = 2*M_1[1]-M_1[2]\n",
    "    M_1[-1] = 2*M_1[-2]-M_1[-3]\n",
    "    M_2[1:-1] = M_2_new\n",
    "    M_2[0] = 2*M_2[1]-M_2[2]\n",
    "    M_2[-1] = 2*M_2[-2]-M_2[-3]\n",
    "    H_m[1:-1] = H_m_new\n",
    "    H_m[0] = 2*H_m[1]-H_m[2]\n",
    "    H_m[-1] = 2*H_m[-2]-H_m[-3]\n",
    "    M_m[1:-1] = M_m_new\n",
    "    M_m[0] = 2*M_m[1]-M_m[2]\n",
    "    M_m[-1] = 2*M_m[-2]-M_m[-3]\n",
    "    return H_1,H_2,H_m,M_1,M_2,M_m"
   ]
  },
  {
   "cell_type": "code",
   "execution_count": 34,
   "metadata": {
    "collapsed": true
   },
   "outputs": [],
   "source": [
    "#the following function takes one forward step in time using the Euler backward difference method\n",
    "def F_B(H_1,H_2,H_m,M_1,M_2,M_m,n):\n",
    "  \n",
    "    H_1_new = np.zeros(n)\n",
    "    H_2_new = np.zeros(n)\n",
    "    H_m_new = np.zeros(n)\n",
    "    M_1_new = np.zeros(n)\n",
    "    M_2_new = np.zeros(n)\n",
    "    M_m_new = np.zeros(n)\n",
    "    for i in range(n):\n",
    "        \n",
    "        H_1_new[i] = H_1[i+1] - dt*(M_1[i+1]-M_1[i])/dx\n",
    "        H_2_new[i] = H_2[i+1] - dt*(M_2[i+1]-M_2[i])/dx\n",
    "        H_m_new[i] = H_m[i+1] - dt*(M_m[i+1]-M_m[i])*0.5/dx\n",
    "   \n",
    "        M_1_new[i] = M_1[i+1] - dt*(r*g*H_1[i+1]*(H_2[i+1]-H_2[i]) - g*H_1[i+1]*(B[i+1]-B[i]) -\n",
    "                                    g*0.5*(1+r)*H_1[i+1]*(H_m[i+1]-H_m[i]))/dx\n",
    "        M_1_new[i] -= dt*(f1(H_1[i+1],M_1[i+1])-f1(H_1[i],M_1[i])+g*H_1[i+1]*(H_1[i+1]-H_1[i]))/dx\n",
    "        M_2_new[i] = M_2[i+1] - dt*(g*H_2[i+1]*(H_1[i+1]+H_m[i+1]-H_m[i]-H_1[i])/dx + \n",
    "                                    g*H_2[i+1]*(B[i+1]-B[i])/dx)\n",
    "        M_2_new[i] -= dt*(f1(H_2[i+1],M_2[i+1])-f1(H_2[i],M_2[i])+g*H_2[i+1]*(H_2[i+1]-H_2[i]))/dx\n",
    "        \n",
    "        M_m_new[i] = M_m[i+1] - dt*H_m[i+1]*g*((B[i+1]-B[i])-r*2*(H_2[i+1]-H_2[i])/(1+r)-(H_1[i+1]-H_1[i]))/dx\n",
    "        M_m_new[i] -= dt*(f1(H_m[i+1],M_m[i+1])-f1(H_m[i],M_m[i])+g*H_m[i+1]*(H_m[i+1]-H_m[i]))/dx\n",
    "        #if H_1_new[i]<0:\n",
    "            #H_m_new[i] += H_1_new[i]\n",
    "            #H_1_new[i] =0\n",
    "    H_1[1:-1] = H_1_new\n",
    "    H_1[0] = 2*H_1[1]-H_1[2]\n",
    "    H_1[-1] = 2*H_1[-2]-H_1[-3]\n",
    "    H_2[1:-1] = H_2_new\n",
    "    H_2[0] = 2*H_2[1] - H_2[2]\n",
    "    H_2[-1] = 2*H_2[-2] - H_2[-3]\n",
    "    H_m[1:-1] = H_m_new\n",
    "    H_m[0] = 2*H_m[1]-H_m[2]\n",
    "    H_m[-1] = 2*H_m[-2]-H_m[-3]\n",
    "    M_1[1:-1] = M_1_new\n",
    "    M_1[0] = 2*M_1[1]-M_1[2]\n",
    "    M_1[-1] = 2*M_1[-2]-M_1[-3]\n",
    "    M_2[1:-1] = M_2_new\n",
    "    M_2[0] = 2*M_2[1]-M_2[2]\n",
    "    M_2[-1] = 2*M_2[-2]-M_2[-3]\n",
    "   \n",
    "    M_m[1:-1] = M_m_new\n",
    "    M_m[0] = 2*M_m[1]-M_m[2]\n",
    "    M_m[-1] = 2*M_m[-2]-M_m[-3]\n",
    "    return H_1,H_2,H_m,M_1,M_2,M_m"
   ]
  },
  {
   "cell_type": "code",
   "execution_count": 69,
   "metadata": {
    "collapsed": false
   },
   "outputs": [
    {
     "data": {
      "text/plain": [
       "<matplotlib.legend.Legend at 0x15c736d8>"
      ]
     },
     "execution_count": 69,
     "metadata": {},
     "output_type": "execute_result"
    },
    {
     "data": {
      "image/png": "[encoded data removed]",
      "text/plain": [
       "<matplotlib.figure.Figure at 0x153f8400>"
      ]
     },
     "metadata": {},
     "output_type": "display_data"
    }
   ],
   "source": [
    "#Test cell\n",
    "#pick dt small enough for the CFL condition\n",
    "dt = 0.0001\n",
    "#parameters\n",
    "g = 9.8\n",
    "r = rho_2/rho_1\n",
    "#xx = X[1:-1]\n",
    "#function used in calculation\n",
    "def f1(h,m):\n",
    "    if h==0:\n",
    "        return 0.0\n",
    "    else:\n",
    "        return m**2/h\n",
    "#uses three steps in each iteration where each method is employed once\n",
    "#this procedure improves solution behavior\n",
    "for t in range(500):\n",
    "    H_1,H_2,H_m,M_1,M_2,M_m=F_F(H_1,H_2,H_m,M_1,M_2,M_m,n)\n",
    "    H_1,H_2,H_m,M_1,M_2,M_m=F_C2(H_1,H_2,H_m,M_1,M_2,M_m,n)\n",
    "    H_1,H_2,H_m,M_1,M_2,M_m=F_B(H_1,H_2,H_m,M_1,M_2,M_m,n)\n",
    "    \n",
    "#plot current status\n",
    "plt.bar(X,H_1+B,width=dx,color='b',label='h1')\n",
    "plt.plot(X,H_2+H_1+B,'k',label='h1+h2')\n",
    "plt.ylabel('h (with zero bathymetry)')\n",
    "plt.title('t = '+str((t+1)*2*dt))\n",
    "plt.legend()"
   ]
  },
  {
   "cell_type": "code",
   "execution_count": 70,
   "metadata": {
    "collapsed": false
   },
   "outputs": [
    {
     "data": {
      "text/plain": [
       "[<matplotlib.lines.Line2D at 0x15cb7eb8>]"
      ]
     },
     "execution_count": 70,
     "metadata": {},
     "output_type": "execute_result"
    },
    {
     "data": {
      "image/png": "[encoded data removed]",
      "text/plain": [
       "<matplotlib.figure.Figure at 0x143922e8>"
      ]
     },
     "metadata": {},
     "output_type": "display_data"
    }
   ],
   "source": [
    "#buffer layer behavior\n",
    "plt.plot(X,H_m)"
   ]
  },
  {
   "cell_type": "code",
   "execution_count": 71,
   "metadata": {
    "collapsed": false
   },
   "outputs": [
    {
     "data": {
      "text/plain": [
       "56.100000000000129"
      ]
     },
     "execution_count": 71,
     "metadata": {},
     "output_type": "execute_result"
    }
   ],
   "source": [
    "#check conservation of mass in two layers\n",
    "sum(H_1)"
   ]
  },
  {
   "cell_type": "code",
   "execution_count": 72,
   "metadata": {
    "collapsed": false
   },
   "outputs": [
    {
     "data": {
      "text/plain": [
       "453.8999999999977"
      ]
     },
     "execution_count": 72,
     "metadata": {},
     "output_type": "execute_result"
    }
   ],
   "source": [
    "sum(H_2)"
   ]
  },
  {
   "cell_type": "code",
   "execution_count": 73,
   "metadata": {
    "collapsed": false
   },
   "outputs": [
    {
     "data": {
      "text/plain": [
       "[<matplotlib.lines.Line2D at 0x16023da0>]"
      ]
     },
     "execution_count": 73,
     "metadata": {},
     "output_type": "execute_result"
    },
    {
     "data": {
      "image/png": "[encoded data removed]",
      "text/plain": [
       "<matplotlib.figure.Figure at 0x15d32160>"
      ]
     },
     "metadata": {},
     "output_type": "display_data"
    }
   ],
   "source": [
    "#bottom layer momentum\n",
    "plt.plot(X,M_1)"
   ]
  },
  {
   "cell_type": "code",
   "execution_count": null,
   "metadata": {
    "collapsed": true
   },
   "outputs": [],
   "source": [
    "#the current problem involves negative values in the bottom layer which will be dealt with using differentiated dt in each step \n",
    "#adapting to the wave speed behavior. A half step Euler method might be used for solution evolution."
   ]
  }
 ],
 "metadata": {
  "anaconda-cloud": {},
  "kernelspec": {
   "display_name": "Python [default]",
   "language": "python",
   "name": "python2"
  },
  "language_info": {
   "codemirror_mode": {
    "name": "ipython",
    "version": 2
   },
   "file_extension": ".py",
   "mimetype": "text/x-python",
   "name": "python",
   "nbconvert_exporter": "python",
   "pygments_lexer": "ipython2",
   "version": "2.7.12"
  }
 },
 "nbformat": 4,
 "nbformat_minor": 1
}
